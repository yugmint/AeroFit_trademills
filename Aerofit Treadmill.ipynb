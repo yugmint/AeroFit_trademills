{
 "cells": [
  {
   "cell_type": "markdown",
   "id": "96dc18c4",
   "metadata": {},
   "source": [
    "## Importing Important libraries"
   ]
  },
  {
   "cell_type": "code",
   "execution_count": 1,
   "id": "e575f3e7",
   "metadata": {},
   "outputs": [],
   "source": [
    "import pandas as pd\n",
    "import numpy as np\n",
    "import matplotlib.pyplot as plt\n",
    "import seaborn as sns"
   ]
  },
  {
   "cell_type": "code",
   "execution_count": 2,
   "id": "5c7ea201",
   "metadata": {},
   "outputs": [
    {
     "data": {
      "text/html": [
       "<div>\n",
       "<style scoped>\n",
       "    .dataframe tbody tr th:only-of-type {\n",
       "        vertical-align: middle;\n",
       "    }\n",
       "\n",
       "    .dataframe tbody tr th {\n",
       "        vertical-align: top;\n",
       "    }\n",
       "\n",
       "    .dataframe thead th {\n",
       "        text-align: right;\n",
       "    }\n",
       "</style>\n",
       "<table border=\"1\" class=\"dataframe\">\n",
       "  <thead>\n",
       "    <tr style=\"text-align: right;\">\n",
       "      <th></th>\n",
       "      <th>Product</th>\n",
       "      <th>Age</th>\n",
       "      <th>Gender</th>\n",
       "      <th>Education</th>\n",
       "      <th>MaritalStatus</th>\n",
       "      <th>Usage</th>\n",
       "      <th>Fitness</th>\n",
       "      <th>Income</th>\n",
       "      <th>Miles</th>\n",
       "    </tr>\n",
       "  </thead>\n",
       "  <tbody>\n",
       "    <tr>\n",
       "      <th>0</th>\n",
       "      <td>KP281</td>\n",
       "      <td>18</td>\n",
       "      <td>Male</td>\n",
       "      <td>14</td>\n",
       "      <td>Single</td>\n",
       "      <td>3</td>\n",
       "      <td>4</td>\n",
       "      <td>29562</td>\n",
       "      <td>112</td>\n",
       "    </tr>\n",
       "    <tr>\n",
       "      <th>1</th>\n",
       "      <td>KP281</td>\n",
       "      <td>19</td>\n",
       "      <td>Male</td>\n",
       "      <td>15</td>\n",
       "      <td>Single</td>\n",
       "      <td>2</td>\n",
       "      <td>3</td>\n",
       "      <td>31836</td>\n",
       "      <td>75</td>\n",
       "    </tr>\n",
       "    <tr>\n",
       "      <th>2</th>\n",
       "      <td>KP281</td>\n",
       "      <td>19</td>\n",
       "      <td>Female</td>\n",
       "      <td>14</td>\n",
       "      <td>Partnered</td>\n",
       "      <td>4</td>\n",
       "      <td>3</td>\n",
       "      <td>30699</td>\n",
       "      <td>66</td>\n",
       "    </tr>\n",
       "    <tr>\n",
       "      <th>3</th>\n",
       "      <td>KP281</td>\n",
       "      <td>19</td>\n",
       "      <td>Male</td>\n",
       "      <td>12</td>\n",
       "      <td>Single</td>\n",
       "      <td>3</td>\n",
       "      <td>3</td>\n",
       "      <td>32973</td>\n",
       "      <td>85</td>\n",
       "    </tr>\n",
       "    <tr>\n",
       "      <th>4</th>\n",
       "      <td>KP281</td>\n",
       "      <td>20</td>\n",
       "      <td>Male</td>\n",
       "      <td>13</td>\n",
       "      <td>Partnered</td>\n",
       "      <td>4</td>\n",
       "      <td>2</td>\n",
       "      <td>35247</td>\n",
       "      <td>47</td>\n",
       "    </tr>\n",
       "  </tbody>\n",
       "</table>\n",
       "</div>"
      ],
      "text/plain": [
       "  Product  Age  Gender  Education MaritalStatus  Usage  Fitness  Income  Miles\n",
       "0   KP281   18    Male         14        Single      3        4   29562    112\n",
       "1   KP281   19    Male         15        Single      2        3   31836     75\n",
       "2   KP281   19  Female         14     Partnered      4        3   30699     66\n",
       "3   KP281   19    Male         12        Single      3        3   32973     85\n",
       "4   KP281   20    Male         13     Partnered      4        2   35247     47"
      ]
     },
     "execution_count": 2,
     "metadata": {},
     "output_type": "execute_result"
    }
   ],
   "source": [
    "df=pd.read_csv(\"F:/Programming/Project/aerofit_treadmill.csv\")\n",
    "df.head()"
   ]
  },
  {
   "cell_type": "markdown",
   "id": "6586d728",
   "metadata": {},
   "source": [
    "## Basic EDA"
   ]
  },
  {
   "cell_type": "code",
   "execution_count": 3,
   "id": "4cce86ec",
   "metadata": {},
   "outputs": [
    {
     "data": {
      "text/plain": [
       "(180, 9)"
      ]
     },
     "execution_count": 3,
     "metadata": {},
     "output_type": "execute_result"
    }
   ],
   "source": [
    "df.shape"
   ]
  },
  {
   "cell_type": "markdown",
   "id": "86a215cf",
   "metadata": {},
   "source": [
    "\n",
    "- Data Shape Analysis:\n",
    "  - The dataset consists of 180 records and 9 columns.\n",
    "  - Categorical variables include Product, Gender, and Marital status.\n",
    "  - Continuous attributes within the dataset include Miles and Income.\n",
    "  - The remaining columns contain discrete data."
   ]
  },
  {
   "cell_type": "code",
   "execution_count": 4,
   "id": "2091c127",
   "metadata": {},
   "outputs": [
    {
     "name": "stdout",
     "output_type": "stream",
     "text": [
      "<class 'pandas.core.frame.DataFrame'>\n",
      "RangeIndex: 180 entries, 0 to 179\n",
      "Data columns (total 9 columns):\n",
      " #   Column         Non-Null Count  Dtype \n",
      "---  ------         --------------  ----- \n",
      " 0   Product        180 non-null    object\n",
      " 1   Age            180 non-null    int64 \n",
      " 2   Gender         180 non-null    object\n",
      " 3   Education      180 non-null    int64 \n",
      " 4   MaritalStatus  180 non-null    object\n",
      " 5   Usage          180 non-null    int64 \n",
      " 6   Fitness        180 non-null    int64 \n",
      " 7   Income         180 non-null    int64 \n",
      " 8   Miles          180 non-null    int64 \n",
      "dtypes: int64(6), object(3)\n",
      "memory usage: 12.8+ KB\n"
     ]
    }
   ],
   "source": [
    "df.info()"
   ]
  },
  {
   "cell_type": "code",
   "execution_count": 5,
   "id": "fd5014e5",
   "metadata": {},
   "outputs": [
    {
     "data": {
      "text/html": [
       "<div>\n",
       "<style scoped>\n",
       "    .dataframe tbody tr th:only-of-type {\n",
       "        vertical-align: middle;\n",
       "    }\n",
       "\n",
       "    .dataframe tbody tr th {\n",
       "        vertical-align: top;\n",
       "    }\n",
       "\n",
       "    .dataframe thead th {\n",
       "        text-align: right;\n",
       "    }\n",
       "</style>\n",
       "<table border=\"1\" class=\"dataframe\">\n",
       "  <thead>\n",
       "    <tr style=\"text-align: right;\">\n",
       "      <th></th>\n",
       "      <th>Age</th>\n",
       "      <th>Education</th>\n",
       "      <th>Usage</th>\n",
       "      <th>Fitness</th>\n",
       "      <th>Income</th>\n",
       "      <th>Miles</th>\n",
       "    </tr>\n",
       "  </thead>\n",
       "  <tbody>\n",
       "    <tr>\n",
       "      <th>count</th>\n",
       "      <td>180.000000</td>\n",
       "      <td>180.000000</td>\n",
       "      <td>180.000000</td>\n",
       "      <td>180.000000</td>\n",
       "      <td>180.000000</td>\n",
       "      <td>180.000000</td>\n",
       "    </tr>\n",
       "    <tr>\n",
       "      <th>mean</th>\n",
       "      <td>28.788889</td>\n",
       "      <td>15.572222</td>\n",
       "      <td>3.455556</td>\n",
       "      <td>3.311111</td>\n",
       "      <td>53719.577778</td>\n",
       "      <td>103.194444</td>\n",
       "    </tr>\n",
       "    <tr>\n",
       "      <th>std</th>\n",
       "      <td>6.943498</td>\n",
       "      <td>1.617055</td>\n",
       "      <td>1.084797</td>\n",
       "      <td>0.958869</td>\n",
       "      <td>16506.684226</td>\n",
       "      <td>51.863605</td>\n",
       "    </tr>\n",
       "    <tr>\n",
       "      <th>min</th>\n",
       "      <td>18.000000</td>\n",
       "      <td>12.000000</td>\n",
       "      <td>2.000000</td>\n",
       "      <td>1.000000</td>\n",
       "      <td>29562.000000</td>\n",
       "      <td>21.000000</td>\n",
       "    </tr>\n",
       "    <tr>\n",
       "      <th>25%</th>\n",
       "      <td>24.000000</td>\n",
       "      <td>14.000000</td>\n",
       "      <td>3.000000</td>\n",
       "      <td>3.000000</td>\n",
       "      <td>44058.750000</td>\n",
       "      <td>66.000000</td>\n",
       "    </tr>\n",
       "    <tr>\n",
       "      <th>50%</th>\n",
       "      <td>26.000000</td>\n",
       "      <td>16.000000</td>\n",
       "      <td>3.000000</td>\n",
       "      <td>3.000000</td>\n",
       "      <td>50596.500000</td>\n",
       "      <td>94.000000</td>\n",
       "    </tr>\n",
       "    <tr>\n",
       "      <th>75%</th>\n",
       "      <td>33.000000</td>\n",
       "      <td>16.000000</td>\n",
       "      <td>4.000000</td>\n",
       "      <td>4.000000</td>\n",
       "      <td>58668.000000</td>\n",
       "      <td>114.750000</td>\n",
       "    </tr>\n",
       "    <tr>\n",
       "      <th>max</th>\n",
       "      <td>50.000000</td>\n",
       "      <td>21.000000</td>\n",
       "      <td>7.000000</td>\n",
       "      <td>5.000000</td>\n",
       "      <td>104581.000000</td>\n",
       "      <td>360.000000</td>\n",
       "    </tr>\n",
       "  </tbody>\n",
       "</table>\n",
       "</div>"
      ],
      "text/plain": [
       "              Age   Education       Usage     Fitness         Income  \\\n",
       "count  180.000000  180.000000  180.000000  180.000000     180.000000   \n",
       "mean    28.788889   15.572222    3.455556    3.311111   53719.577778   \n",
       "std      6.943498    1.617055    1.084797    0.958869   16506.684226   \n",
       "min     18.000000   12.000000    2.000000    1.000000   29562.000000   \n",
       "25%     24.000000   14.000000    3.000000    3.000000   44058.750000   \n",
       "50%     26.000000   16.000000    3.000000    3.000000   50596.500000   \n",
       "75%     33.000000   16.000000    4.000000    4.000000   58668.000000   \n",
       "max     50.000000   21.000000    7.000000    5.000000  104581.000000   \n",
       "\n",
       "            Miles  \n",
       "count  180.000000  \n",
       "mean   103.194444  \n",
       "std     51.863605  \n",
       "min     21.000000  \n",
       "25%     66.000000  \n",
       "50%     94.000000  \n",
       "75%    114.750000  \n",
       "max    360.000000  "
      ]
     },
     "execution_count": 5,
     "metadata": {},
     "output_type": "execute_result"
    }
   ],
   "source": [
    "df.describe()"
   ]
  },
  {
   "cell_type": "markdown",
   "id": "b00bc279",
   "metadata": {},
   "source": [
    "Above are the stats of all the numeric data types:\n",
    "In the dataset:\n",
    "- The average age is approximately 28.79 years, with the youngest being 18 and the oldest 50.\n",
    "- Individuals have received an average of 15.57 years of education, with the range spanning from 12 to 21 years.\n",
    "- Product usage occurs, on average, 3.46 times per week, with frequencies ranging from 2 to 7 times.\n",
    "- Reported fitness levels average at 3.31, with ratings varying between 1 and 5.\n",
    "- Mean income stands at 53,719.58 dollar, with incomes ranging from 29,562 dollar to 104,581 dollar.\n",
    "- On average, individuals cover approximately 103.19 miles, with distances ranging from 21 to 360 miles."
   ]
  },
  {
   "cell_type": "code",
   "execution_count": 6,
   "id": "e93ce3b6",
   "metadata": {},
   "outputs": [
    {
     "data": {
      "text/plain": [
       "Product          0\n",
       "Age              0\n",
       "Gender           0\n",
       "Education        0\n",
       "MaritalStatus    0\n",
       "Usage            0\n",
       "Fitness          0\n",
       "Income           0\n",
       "Miles            0\n",
       "dtype: int64"
      ]
     },
     "execution_count": 6,
     "metadata": {},
     "output_type": "execute_result"
    }
   ],
   "source": [
    "df.isna().sum()"
   ]
  },
  {
   "cell_type": "markdown",
   "id": "66d335eb",
   "metadata": {},
   "source": [
    "Upon checking for the null values, data doesn't have any missing values"
   ]
  },
  {
   "cell_type": "code",
   "execution_count": 7,
   "id": "8acb9d90",
   "metadata": {},
   "outputs": [
    {
     "data": {
      "text/plain": [
       "array(['KP281', 'KP481', 'KP781'], dtype=object)"
      ]
     },
     "execution_count": 7,
     "metadata": {},
     "output_type": "execute_result"
    }
   ],
   "source": [
    "df['Product'].unique()"
   ]
  },
  {
   "cell_type": "markdown",
   "id": "3e8ea0cc",
   "metadata": {},
   "source": [
    "There are three different products:\n",
    "1. KP281\n",
    "2. KP481\n",
    "3. KP781\n"
   ]
  },
  {
   "cell_type": "code",
   "execution_count": null,
   "id": "33f0e746",
   "metadata": {},
   "outputs": [],
   "source": []
  },
  {
   "cell_type": "markdown",
   "id": "24dfdf13",
   "metadata": {},
   "source": [
    "## Graphical Analysis"
   ]
  },
  {
   "cell_type": "markdown",
   "id": "7062443f",
   "metadata": {},
   "source": [
    "### Outlier Detection"
   ]
  },
  {
   "cell_type": "code",
   "execution_count": 8,
   "id": "6689d032",
   "metadata": {},
   "outputs": [
    {
     "data": {
      "image/png": "[encoded data removed]",
      "text/plain": [
       "<Figure size 1440x576 with 6 Axes>"
      ]
     },
     "metadata": {
      "needs_background": "light"
     },
     "output_type": "display_data"
    }
   ],
   "source": [
    "plt.figure(figsize=(20,8)).suptitle('Outlier Detection', fontsize=20)\n",
    "\n",
    "plt.subplot(2,3,1)\n",
    "sns.boxplot(data=df['Age'],palette=(\"flare\"))\n",
    "plt.title('Age')\n",
    "\n",
    "plt.subplot(2,3,2)\n",
    "sns.boxplot(data=df['Education'], palette=(\"flare\"))\n",
    "plt.title('Education')\n",
    "\n",
    "\n",
    "plt.subplot(2,3,3)\n",
    "sns.boxplot(data=df['Usage'], palette=(\"flare\"))\n",
    "plt.title('Usage')\n",
    "\n",
    "\n",
    "plt.subplot(2,3,4)\n",
    "sns.boxplot(data=df['Fitness'], palette=(\"flare\"))\n",
    "plt.title('Fitness')\n",
    "\n",
    "\n",
    "plt.subplot(2,3,5)\n",
    "sns.boxplot(data=df['Income'], palette=(\"flare\"))\n",
    "plt.title('Income')\n",
    "\n",
    "\n",
    "plt.subplot(2,3,6)\n",
    "sns.boxplot(data=df['Miles'], palette=(\"flare\"))\n",
    "plt.title('Miles')\n",
    "\n",
    "\n",
    "plt.show()"
   ]
  },
  {
   "cell_type": "code",
   "execution_count": 9,
   "id": "73bc4a55",
   "metadata": {},
   "outputs": [],
   "source": [
    "F_5=df['Fitness'].quantile(0.5)\n",
    "F_95=df['Fitness'].quantile(0.95)\n",
    "df['Fitness']=df['Fitness'].clip(F_5, F_95)"
   ]
  },
  {
   "cell_type": "code",
   "execution_count": 10,
   "id": "45ac6e8f",
   "metadata": {},
   "outputs": [],
   "source": [
    "I_5=df['Income'].quantile(0.5)\n",
    "I_95=df['Income'].quantile(0.95)\n",
    "df['Income']=df['Income'].clip(I_5, I_95)"
   ]
  },
  {
   "cell_type": "code",
   "execution_count": 11,
   "id": "660c4f17",
   "metadata": {},
   "outputs": [],
   "source": [
    "A_5=df['Age'].quantile(0.5)\n",
    "A_95=df['Age'].quantile(0.95)\n",
    "df['Age']=df['Age'].clip(A_5, A_95)"
   ]
  },
  {
   "cell_type": "code",
   "execution_count": 12,
   "id": "fe9c18a7",
   "metadata": {},
   "outputs": [],
   "source": [
    "U_5=df['Usage'].quantile(0.5)\n",
    "U_95=df['Usage'].quantile(0.95)\n",
    "df['Usage']=df['Usage'].clip(U_5, U_95)"
   ]
  },
  {
   "cell_type": "code",
   "execution_count": 13,
   "id": "20ff286d",
   "metadata": {},
   "outputs": [],
   "source": [
    "M_5=df['Miles'].quantile(0.5)\n",
    "M_95=df['Miles'].quantile(0.95)\n",
    "df['Miles']=df['Miles'].clip(M_5, M_95)"
   ]
  },
  {
   "cell_type": "code",
   "execution_count": 14,
   "id": "28ee5ab1",
   "metadata": {},
   "outputs": [
    {
     "data": {
      "text/html": [
       "<div>\n",
       "<style scoped>\n",
       "    .dataframe tbody tr th:only-of-type {\n",
       "        vertical-align: middle;\n",
       "    }\n",
       "\n",
       "    .dataframe tbody tr th {\n",
       "        vertical-align: top;\n",
       "    }\n",
       "\n",
       "    .dataframe thead th {\n",
       "        text-align: right;\n",
       "    }\n",
       "</style>\n",
       "<table border=\"1\" class=\"dataframe\">\n",
       "  <thead>\n",
       "    <tr style=\"text-align: right;\">\n",
       "      <th></th>\n",
       "      <th>Age</th>\n",
       "      <th>Education</th>\n",
       "      <th>Usage</th>\n",
       "      <th>Fitness</th>\n",
       "      <th>Income</th>\n",
       "      <th>Miles</th>\n",
       "    </tr>\n",
       "  </thead>\n",
       "  <tbody>\n",
       "    <tr>\n",
       "      <th>count</th>\n",
       "      <td>180.000000</td>\n",
       "      <td>180.000000</td>\n",
       "      <td>180.000000</td>\n",
       "      <td>180.000000</td>\n",
       "      <td>180.000000</td>\n",
       "      <td>180.000000</td>\n",
       "    </tr>\n",
       "    <tr>\n",
       "      <th>mean</th>\n",
       "      <td>29.896944</td>\n",
       "      <td>15.572222</td>\n",
       "      <td>3.580278</td>\n",
       "      <td>3.477778</td>\n",
       "      <td>57580.651389</td>\n",
       "      <td>113.761111</td>\n",
       "    </tr>\n",
       "    <tr>\n",
       "      <th>std</th>\n",
       "      <td>5.326654</td>\n",
       "      <td>1.617055</td>\n",
       "      <td>0.736944</td>\n",
       "      <td>0.772832</td>\n",
       "      <td>12223.669957</td>\n",
       "      <td>33.169678</td>\n",
       "    </tr>\n",
       "    <tr>\n",
       "      <th>min</th>\n",
       "      <td>26.000000</td>\n",
       "      <td>12.000000</td>\n",
       "      <td>3.000000</td>\n",
       "      <td>3.000000</td>\n",
       "      <td>50596.500000</td>\n",
       "      <td>94.000000</td>\n",
       "    </tr>\n",
       "    <tr>\n",
       "      <th>25%</th>\n",
       "      <td>26.000000</td>\n",
       "      <td>14.000000</td>\n",
       "      <td>3.000000</td>\n",
       "      <td>3.000000</td>\n",
       "      <td>50596.500000</td>\n",
       "      <td>94.000000</td>\n",
       "    </tr>\n",
       "    <tr>\n",
       "      <th>50%</th>\n",
       "      <td>26.000000</td>\n",
       "      <td>16.000000</td>\n",
       "      <td>3.000000</td>\n",
       "      <td>3.000000</td>\n",
       "      <td>50880.750000</td>\n",
       "      <td>94.000000</td>\n",
       "    </tr>\n",
       "    <tr>\n",
       "      <th>75%</th>\n",
       "      <td>33.000000</td>\n",
       "      <td>16.000000</td>\n",
       "      <td>4.000000</td>\n",
       "      <td>4.000000</td>\n",
       "      <td>58668.000000</td>\n",
       "      <td>114.750000</td>\n",
       "    </tr>\n",
       "    <tr>\n",
       "      <th>max</th>\n",
       "      <td>43.050000</td>\n",
       "      <td>21.000000</td>\n",
       "      <td>5.050000</td>\n",
       "      <td>5.000000</td>\n",
       "      <td>90948.250000</td>\n",
       "      <td>200.000000</td>\n",
       "    </tr>\n",
       "  </tbody>\n",
       "</table>\n",
       "</div>"
      ],
      "text/plain": [
       "              Age   Education       Usage     Fitness        Income  \\\n",
       "count  180.000000  180.000000  180.000000  180.000000    180.000000   \n",
       "mean    29.896944   15.572222    3.580278    3.477778  57580.651389   \n",
       "std      5.326654    1.617055    0.736944    0.772832  12223.669957   \n",
       "min     26.000000   12.000000    3.000000    3.000000  50596.500000   \n",
       "25%     26.000000   14.000000    3.000000    3.000000  50596.500000   \n",
       "50%     26.000000   16.000000    3.000000    3.000000  50880.750000   \n",
       "75%     33.000000   16.000000    4.000000    4.000000  58668.000000   \n",
       "max     43.050000   21.000000    5.050000    5.000000  90948.250000   \n",
       "\n",
       "            Miles  \n",
       "count  180.000000  \n",
       "mean   113.761111  \n",
       "std     33.169678  \n",
       "min     94.000000  \n",
       "25%     94.000000  \n",
       "50%     94.000000  \n",
       "75%    114.750000  \n",
       "max    200.000000  "
      ]
     },
     "execution_count": 14,
     "metadata": {},
     "output_type": "execute_result"
    }
   ],
   "source": [
    "df.describe()"
   ]
  },
  {
   "cell_type": "markdown",
   "id": "f5dffcfc",
   "metadata": {},
   "source": [
    "### Stats after Handling Outliers:\n",
    "- **Age**: Average age is around **29.9 years** (ranging from 26 to 43.1 years).\n",
    "- **Education**: Average education level is **15.6 years** (12 to 21 years).\n",
    "- **Usage**: Average usage score is **3.58** (ranging from 3.0 to 5.05).\n",
    "- **Fitness**: Average fitness score is **3.48** (ranging from 3.0 to 5.0).\n",
    "- **Income**: Average income is approximately **$57,580.65** (ranging from 50,596.50 dollar to 90,948.25 dollar).\n",
    "- **Miles**: Average distance traveled is **113.76 miles** (ranging from 94 to 200 miles).\n"
   ]
  },
  {
   "cell_type": "code",
   "execution_count": 15,
   "id": "a92d23ab",
   "metadata": {},
   "outputs": [
    {
     "data": {
      "image/png": "[encoded data removed]",
      "text/plain": [
       "<Figure size 1440x576 with 6 Axes>"
      ]
     },
     "metadata": {
      "needs_background": "light"
     },
     "output_type": "display_data"
    }
   ],
   "source": [
    "plt.figure(figsize=(20,8)).suptitle('After Handling Outliers', fontsize=20)\n",
    "\n",
    "plt.subplot(2,3,1)\n",
    "sns.boxplot(data=df['Age'], palette=(\"flare\"))\n",
    "plt.title('Outlier Detection: Age')\n",
    "\n",
    "plt.subplot(2,3,2)\n",
    "sns.boxplot(data=df['Education'], palette=(\"flare\"))\n",
    "plt.title('Outlier Detection: Education')\n",
    "\n",
    "\n",
    "plt.subplot(2,3,3)\n",
    "sns.boxplot(data=df['Usage'], palette=(\"flare\"))\n",
    "plt.title('Outlier Detection: Usage')\n",
    "\n",
    "\n",
    "plt.subplot(2,3,4)\n",
    "sns.boxplot(data=df['Fitness'], palette=(\"flare\"))\n",
    "plt.title('Outlier Detection: Fitness')\n",
    "\n",
    "\n",
    "plt.subplot(2,3,5)\n",
    "sns.boxplot(data=df['Income'], palette=(\"flare\"))\n",
    "plt.title('Outlier Detection: Income')\n",
    "\n",
    "\n",
    "plt.subplot(2,3,6)\n",
    "sns.boxplot(data=df['Miles'], palette=(\"flare\"))\n",
    "plt.title('Outlier Detection: Miles')\n",
    "\n",
    "\n",
    "plt.show()"
   ]
  },
  {
   "cell_type": "markdown",
   "id": "df8d6669",
   "metadata": {},
   "source": [
    "## Univarite Analysis"
   ]
  },
  {
   "cell_type": "code",
   "execution_count": 38,
   "id": "8b109427",
   "metadata": {},
   "outputs": [
    {
     "data": {
      "image/png": "[encoded data removed]",
      "text/plain": [
       "<Figure size 1440x864 with 6 Axes>"
      ]
     },
     "metadata": {
      "needs_background": "light"
     },
     "output_type": "display_data"
    }
   ],
   "source": [
    "plt.figure(figsize=(20,12)).suptitle('Univariate Analysis', fontsize=20)\n",
    "\n",
    "plt.subplot(2,3,1)\n",
    "sns.histplot(data=df['Age'], kde= True)\n",
    "plt.title('Outlier Detection: Age')\n",
    "\n",
    "plt.subplot(2,3,2)\n",
    "sns.histplot(data=df['Education'], kde= True)\n",
    "plt.title('Outlier Detection: Education')\n",
    "\n",
    "\n",
    "plt.subplot(2,3,3)\n",
    "sns.histplot(data=df['Usage'], kde= True)\n",
    "plt.title('Outlier Detection: Usage')\n",
    "\n",
    "\n",
    "plt.subplot(2,3,4)\n",
    "sns.histplot(data=df['Fitness'], kde= True)\n",
    "plt.title('Outlier Detection: Fitness')\n",
    "\n",
    "\n",
    "plt.subplot(2,3,5)\n",
    "sns.histplot(data=df['Income'], kde= True)\n",
    "plt.title('Outlier Detection: Income')\n",
    "\n",
    "\n",
    "plt.subplot(2,3,6)\n",
    "sns.histplot(data=df['Miles'], kde= True)\n",
    "plt.title('Outlier Detection: Miles')\n",
    "\n",
    "\n",
    "plt.show()"
   ]
  },
  {
   "cell_type": "markdown",
   "id": "dac4741b",
   "metadata": {},
   "source": [
    "### Analysis of all the attributes with respect to the dataset"
   ]
  },
  {
   "cell_type": "code",
   "execution_count": null,
   "id": "40cc2fda",
   "metadata": {},
   "outputs": [],
   "source": []
  },
  {
   "cell_type": "markdown",
   "id": "453c8904",
   "metadata": {},
   "source": [
    "### Analysis with respect to gender and martial status with respect to different products"
   ]
  },
  {
   "cell_type": "code",
   "execution_count": 17,
   "id": "503873b7",
   "metadata": {},
   "outputs": [
    {
     "data": {
      "text/html": [
       "<div>\n",
       "<style scoped>\n",
       "    .dataframe tbody tr th:only-of-type {\n",
       "        vertical-align: middle;\n",
       "    }\n",
       "\n",
       "    .dataframe tbody tr th {\n",
       "        vertical-align: top;\n",
       "    }\n",
       "\n",
       "    .dataframe thead th {\n",
       "        text-align: right;\n",
       "    }\n",
       "</style>\n",
       "<table border=\"1\" class=\"dataframe\">\n",
       "  <thead>\n",
       "    <tr style=\"text-align: right;\">\n",
       "      <th></th>\n",
       "      <th></th>\n",
       "      <th>value</th>\n",
       "    </tr>\n",
       "    <tr>\n",
       "      <th>variable</th>\n",
       "      <th>value</th>\n",
       "      <th></th>\n",
       "    </tr>\n",
       "  </thead>\n",
       "  <tbody>\n",
       "    <tr>\n",
       "      <th rowspan=\"2\" valign=\"top\">Gender</th>\n",
       "      <th>Female</th>\n",
       "      <td>0.422222</td>\n",
       "    </tr>\n",
       "    <tr>\n",
       "      <th>Male</th>\n",
       "      <td>0.577778</td>\n",
       "    </tr>\n",
       "    <tr>\n",
       "      <th rowspan=\"2\" valign=\"top\">MaritalStatus</th>\n",
       "      <th>Partnered</th>\n",
       "      <td>0.594444</td>\n",
       "    </tr>\n",
       "    <tr>\n",
       "      <th>Single</th>\n",
       "      <td>0.405556</td>\n",
       "    </tr>\n",
       "    <tr>\n",
       "      <th rowspan=\"3\" valign=\"top\">Product</th>\n",
       "      <th>KP281</th>\n",
       "      <td>0.444444</td>\n",
       "    </tr>\n",
       "    <tr>\n",
       "      <th>KP481</th>\n",
       "      <td>0.333333</td>\n",
       "    </tr>\n",
       "    <tr>\n",
       "      <th>KP781</th>\n",
       "      <td>0.222222</td>\n",
       "    </tr>\n",
       "  </tbody>\n",
       "</table>\n",
       "</div>"
      ],
      "text/plain": [
       "                            value\n",
       "variable      value              \n",
       "Gender        Female     0.422222\n",
       "              Male       0.577778\n",
       "MaritalStatus Partnered  0.594444\n",
       "              Single     0.405556\n",
       "Product       KP281      0.444444\n",
       "              KP481      0.333333\n",
       "              KP781      0.222222"
      ]
     },
     "execution_count": 17,
     "metadata": {},
     "output_type": "execute_result"
    }
   ],
   "source": [
    "df1 = df[['Product', 'Gender', 'MaritalStatus']].melt()\n",
    "df1.groupby(['variable', 'value'])[['value']].count() / len(df)"
   ]
  },
  {
   "cell_type": "markdown",
   "id": "ceac01a6",
   "metadata": {},
   "source": [
    "## Observations:\n",
    "### Product\n",
    "- **44.44%** of the customers have purchased **KP281** product.\n",
    "- **33.33%** of the customers have purchased **KP481** product.\n",
    "- **22.22%** of the customers have purchased **KP781** product.\n",
    "\n",
    "### Gender\n",
    " **57.78%** of the customers are Male.\n",
    " \n",
    "### MaritalStatus\n",
    " **59.44%** of the customers are Partnered.\n"
   ]
  },
  {
   "cell_type": "markdown",
   "id": "8fddc723",
   "metadata": {},
   "source": [
    "## Bivarite Analysis"
   ]
  },
  {
   "cell_type": "code",
   "execution_count": 18,
   "id": "5ee672ed",
   "metadata": {},
   "outputs": [
    {
     "data": {
      "image/png": "[encoded data removed]",
      "text/plain": [
       "<Figure size 1080x432 with 2 Axes>"
      ]
     },
     "metadata": {
      "needs_background": "light"
     },
     "output_type": "display_data"
    }
   ],
   "source": [
    "plt.figure(figsize=(15,6)).suptitle('Effect of Age and Marital Status on the Product')\n",
    "\n",
    "plt.subplot(1,2,1)\n",
    "sns.histplot(data=df, x='Product', hue='MaritalStatus', palette=(\"flare\"))\n",
    "plt.title('Effect Marital Status')\n",
    "\n",
    "plt.subplot(1,2,2)\n",
    "sns.barplot(data=df, x='Product', y='Income', hue='Gender', palette=(\"flare\"))\n",
    "plt.title('Effect of Gender')\n",
    "\n",
    "plt.show()"
   ]
  },
  {
   "cell_type": "markdown",
   "id": "b326b266",
   "metadata": {},
   "source": [
    "### Inights:\n",
    "\n",
    "1. **Effect of Marital Status**:\n",
    "    - **Single Individuals**: Prefer **Product KP281**.\n",
    "    - **Partnered Individuals**: Favor **Product KP481**.\n",
    "    - **Married Individuals**: Show a strong preference for **Product KP781**.\n",
    "\n",
    "2. **Effect of Gender**:\n",
    "    - Both **Males and Females** exhibit similar income levels across all three products (KP281, KP481, KP781) with minor differences.\n"
   ]
  },
  {
   "cell_type": "markdown",
   "id": "e9330c2a",
   "metadata": {},
   "source": [
    "## Marginal Probability"
   ]
  },
  {
   "cell_type": "code",
   "execution_count": 19,
   "id": "eb8f9e99",
   "metadata": {},
   "outputs": [
    {
     "data": {
      "text/plain": [
       "KP281    0.444444\n",
       "KP481    0.333333\n",
       "KP781    0.222222\n",
       "Name: Product, dtype: float64"
      ]
     },
     "execution_count": 19,
     "metadata": {},
     "output_type": "execute_result"
    }
   ],
   "source": [
    "df['Product'].value_counts(normalize=True)"
   ]
  },
  {
   "cell_type": "markdown",
   "id": "d4535c3c",
   "metadata": {},
   "source": [
    "### Marginal Probabilities:\n",
    "- KP281  -  44.4%\n",
    "- KP481  -  33.3%\n",
    "- KP781  -  22.2%"
   ]
  },
  {
   "cell_type": "code",
   "execution_count": null,
   "id": "c122e8d6",
   "metadata": {},
   "outputs": [],
   "source": []
  },
  {
   "cell_type": "markdown",
   "id": "1cace971",
   "metadata": {},
   "source": [
    "## Condional Probabilities:"
   ]
  },
  {
   "cell_type": "code",
   "execution_count": 20,
   "id": "59af6ff2",
   "metadata": {},
   "outputs": [
    {
     "data": {
      "text/html": [
       "<div>\n",
       "<style scoped>\n",
       "    .dataframe tbody tr th:only-of-type {\n",
       "        vertical-align: middle;\n",
       "    }\n",
       "\n",
       "    .dataframe tbody tr th {\n",
       "        vertical-align: top;\n",
       "    }\n",
       "\n",
       "    .dataframe thead th {\n",
       "        text-align: right;\n",
       "    }\n",
       "</style>\n",
       "<table border=\"1\" class=\"dataframe\">\n",
       "  <thead>\n",
       "    <tr style=\"text-align: right;\">\n",
       "      <th>MaritalStatus</th>\n",
       "      <th>Partnered</th>\n",
       "      <th>Single</th>\n",
       "      <th>All</th>\n",
       "    </tr>\n",
       "    <tr>\n",
       "      <th>Product</th>\n",
       "      <th></th>\n",
       "      <th></th>\n",
       "      <th></th>\n",
       "    </tr>\n",
       "  </thead>\n",
       "  <tbody>\n",
       "    <tr>\n",
       "      <th>KP281</th>\n",
       "      <td>48</td>\n",
       "      <td>32</td>\n",
       "      <td>80</td>\n",
       "    </tr>\n",
       "    <tr>\n",
       "      <th>KP481</th>\n",
       "      <td>36</td>\n",
       "      <td>24</td>\n",
       "      <td>60</td>\n",
       "    </tr>\n",
       "    <tr>\n",
       "      <th>KP781</th>\n",
       "      <td>23</td>\n",
       "      <td>17</td>\n",
       "      <td>40</td>\n",
       "    </tr>\n",
       "    <tr>\n",
       "      <th>All</th>\n",
       "      <td>107</td>\n",
       "      <td>73</td>\n",
       "      <td>180</td>\n",
       "    </tr>\n",
       "  </tbody>\n",
       "</table>\n",
       "</div>"
      ],
      "text/plain": [
       "MaritalStatus  Partnered  Single  All\n",
       "Product                              \n",
       "KP281                 48      32   80\n",
       "KP481                 36      24   60\n",
       "KP781                 23      17   40\n",
       "All                  107      73  180"
      ]
     },
     "execution_count": 20,
     "metadata": {},
     "output_type": "execute_result"
    }
   ],
   "source": [
    "pd.crosstab(index=df['Product'], columns=df['MaritalStatus'], margins=True)"
   ]
  },
  {
   "cell_type": "code",
   "execution_count": 21,
   "id": "a8f7ea70",
   "metadata": {},
   "outputs": [
    {
     "name": "stdout",
     "output_type": "stream",
     "text": [
      "KP281:\n",
      "Probabilty of purchase by singles: 43.84 %\n",
      "Probabilty of purchase by Parterned: 44.86 %\n",
      "\n",
      "KP481:\n",
      "Probabilty of purchase by singles: 32.88 %\n",
      "Probabilty of purchase by Parterned: 33.64 %\n",
      "\n",
      "KP781:\n",
      "Probabilty of purchase by singles: 23.29 %\n",
      "Probabilty of purchase by Parterned: 21.5 %\n"
     ]
    }
   ],
   "source": [
    "print(\"KP281:\")\n",
    "KP281_S= 32/73\n",
    "print(\"Probabilty of purchase by singles:\",round(KP281_S*100,2),\"%\")\n",
    "\n",
    "KP281_P= 48/107\n",
    "print(\"Probabilty of purchase by Parterned:\",round(KP281_P*100,2),\"%\")\n",
    "\n",
    "print(\"\\nKP481:\")\n",
    "KP481_S= 24/73\n",
    "print(\"Probabilty of purchase by singles:\",round(KP481_S*100,2),\"%\")\n",
    "\n",
    "KP481_P= 36/107\n",
    "print(\"Probabilty of purchase by Parterned:\",round(KP481_P*100,2),\"%\")\n",
    "\n",
    "print(\"\\nKP781:\")\n",
    "KP781_S= 17/73\n",
    "print(\"Probabilty of purchase by singles:\",round(KP781_S*100,2),\"%\")\n",
    "\n",
    "KP781_P= 23/107\n",
    "print(\"Probabilty of purchase by Parterned:\",round(KP781_P*100,2),\"%\")"
   ]
  },
  {
   "cell_type": "markdown",
   "id": "ba400d0f",
   "metadata": {},
   "source": [
    "### Analysis of Purchase Probabilities by Gender for Different Products:\n",
    "\n",
    "- **KP281**:\n",
    "  - Singles: **43.84%** purchase probability\n",
    "  - Partnered: **44.86%** purchase probability\n",
    "\n",
    "- **KP481**:\n",
    "  - Singles: **32.88%** purchase probability\n",
    "  - Partnered: **33.64%** purchase probability\n",
    "\n",
    "- **KP781**:\n",
    "  - Singles: **23.29%** purchase probability\n",
    "  - Partnered: **21.5%** purchase probability"
   ]
  },
  {
   "cell_type": "code",
   "execution_count": 22,
   "id": "21b1380e",
   "metadata": {},
   "outputs": [
    {
     "data": {
      "text/html": [
       "<div>\n",
       "<style scoped>\n",
       "    .dataframe tbody tr th:only-of-type {\n",
       "        vertical-align: middle;\n",
       "    }\n",
       "\n",
       "    .dataframe tbody tr th {\n",
       "        vertical-align: top;\n",
       "    }\n",
       "\n",
       "    .dataframe thead th {\n",
       "        text-align: right;\n",
       "    }\n",
       "</style>\n",
       "<table border=\"1\" class=\"dataframe\">\n",
       "  <thead>\n",
       "    <tr style=\"text-align: right;\">\n",
       "      <th>Gender</th>\n",
       "      <th>Female</th>\n",
       "      <th>Male</th>\n",
       "      <th>All</th>\n",
       "    </tr>\n",
       "    <tr>\n",
       "      <th>Product</th>\n",
       "      <th></th>\n",
       "      <th></th>\n",
       "      <th></th>\n",
       "    </tr>\n",
       "  </thead>\n",
       "  <tbody>\n",
       "    <tr>\n",
       "      <th>KP281</th>\n",
       "      <td>40</td>\n",
       "      <td>40</td>\n",
       "      <td>80</td>\n",
       "    </tr>\n",
       "    <tr>\n",
       "      <th>KP481</th>\n",
       "      <td>29</td>\n",
       "      <td>31</td>\n",
       "      <td>60</td>\n",
       "    </tr>\n",
       "    <tr>\n",
       "      <th>KP781</th>\n",
       "      <td>7</td>\n",
       "      <td>33</td>\n",
       "      <td>40</td>\n",
       "    </tr>\n",
       "    <tr>\n",
       "      <th>All</th>\n",
       "      <td>76</td>\n",
       "      <td>104</td>\n",
       "      <td>180</td>\n",
       "    </tr>\n",
       "  </tbody>\n",
       "</table>\n",
       "</div>"
      ],
      "text/plain": [
       "Gender   Female  Male  All\n",
       "Product                   \n",
       "KP281        40    40   80\n",
       "KP481        29    31   60\n",
       "KP781         7    33   40\n",
       "All          76   104  180"
      ]
     },
     "execution_count": 22,
     "metadata": {},
     "output_type": "execute_result"
    }
   ],
   "source": [
    "pd.crosstab(index=df['Product'], columns=df['Gender'], margins=True)"
   ]
  },
  {
   "cell_type": "code",
   "execution_count": 23,
   "id": "4d3479ec",
   "metadata": {},
   "outputs": [
    {
     "name": "stdout",
     "output_type": "stream",
     "text": [
      "KP281:\n",
      "Probabilty of purchase by Females: 43.84 %\n",
      "Probabilty of purchase by Males: 44.86 %\n",
      "\n",
      "KP481:\n",
      "Probabilty of purchase by Females 32.88 %\n",
      "Probabilty of purchase by Males: 33.64 %\n",
      "\n",
      "KP781:\n",
      "Probabilty of purchase by Females: 23.29 %\n",
      "Probabilty of purchase by Males: 21.5 %\n"
     ]
    }
   ],
   "source": [
    "print(\"KP281:\")\n",
    "KP281_F= 40/76\n",
    "print(\"Probabilty of purchase by Females:\",round(KP281_S*100,2),\"%\")\n",
    "\n",
    "KP281_M= 40/104\n",
    "print(\"Probabilty of purchase by Males:\",round(KP281_P*100,2),\"%\")\n",
    "\n",
    "print(\"\\nKP481:\")\n",
    "KP481_F= 29/76\n",
    "print(\"Probabilty of purchase by Females\",round(KP481_S*100,2),\"%\")\n",
    "\n",
    "KP481_M= 33/104\n",
    "print(\"Probabilty of purchase by Males:\",round(KP481_P*100,2),\"%\")\n",
    "\n",
    "print(\"\\nKP781:\")\n",
    "KP781_F= 7/76\n",
    "print(\"Probabilty of purchase by Females:\",round(KP781_S*100,2),\"%\")\n",
    "\n",
    "KP781_M= 33/104\n",
    "print(\"Probabilty of purchase by Males:\",round(KP781_P*100,2),\"%\")"
   ]
  },
  {
   "cell_type": "markdown",
   "id": "e400eac2",
   "metadata": {},
   "source": [
    "### Analysis of Purchase Probabilities by Gender for Different Products:\n",
    "\n",
    "- **KP281**:\n",
    "  - Both females and males exhibit relatively high purchase probabilities, with females at 43.84% and males slightly higher at **44.86%**.\n",
    "\n",
    "- **KP481**:\n",
    "  - Purchase probabilities decrease for both genders compared to KP281, with females at 32.88% and males at **33.64%**.\n",
    "\n",
    "- **KP781**:\n",
    "  - The trend of decreasing purchase probabilities continues, with females at **23.29%** and males at 21.5%. Despite the decline, males consistently exhibit slightly lower purchase probabilities across all products compared to females."
   ]
  },
  {
   "cell_type": "markdown",
   "id": "49540964",
   "metadata": {},
   "source": [
    "## Correlation:"
   ]
  },
  {
   "cell_type": "code",
   "execution_count": 24,
   "id": "7a69f2c1",
   "metadata": {},
   "outputs": [
    {
     "data": {
      "image/png": "[encoded data removed]",
      "text/plain": [
       "<Figure size 432x288 with 2 Axes>"
      ]
     },
     "metadata": {
      "needs_background": "light"
     },
     "output_type": "display_data"
    }
   ],
   "source": [
    "sns.heatmap(df.corr(), cmap='coolwarm')\n",
    "plt.show()"
   ]
  },
  {
   "cell_type": "markdown",
   "id": "eb74f378",
   "metadata": {},
   "source": [
    "### Insights:\n",
    "This heat map visually represents the correlations between various attributes.\n",
    "- Particularly notable is the strong correlation observed among **Usage, Fitness, and Miles**."
   ]
  },
  {
   "cell_type": "code",
   "execution_count": null,
   "id": "ed085aa3",
   "metadata": {},
   "outputs": [],
   "source": []
  },
  {
   "cell_type": "code",
   "execution_count": 25,
   "id": "bcd00df4",
   "metadata": {},
   "outputs": [],
   "source": [
    "def income_grp(x):\n",
    "    if x<=60000:\n",
    "        return 'Low'\n",
    "    elif x>=90000:\n",
    "        return 'High'\n",
    "    else:\n",
    "        return 'Mid'"
   ]
  },
  {
   "cell_type": "code",
   "execution_count": 26,
   "id": "8b5fd0cd",
   "metadata": {},
   "outputs": [],
   "source": [
    "df['Income_group']=df['Income'].apply(income_grp)"
   ]
  },
  {
   "cell_type": "markdown",
   "id": "19406aeb",
   "metadata": {},
   "source": [
    "## Income Group Bufiguration:"
   ]
  },
  {
   "cell_type": "code",
   "execution_count": 34,
   "id": "73ed8631",
   "metadata": {},
   "outputs": [
    {
     "data": {
      "image/png": "[encoded data removed]",
      "text/plain": [
       "<Figure size 432x288 with 1 Axes>"
      ]
     },
     "metadata": {},
     "output_type": "display_data"
    }
   ],
   "source": [
    "plt.pie(df.Income_group.value_counts(), explode=(.10,.10,.10), labels=df.Income_group.value_counts().index,autopct='%1.1f%%', colors=sns.color_palette('Set2')\n",
    ")\n",
    "plt.show()\n"
   ]
  },
  {
   "cell_type": "markdown",
   "id": "4fa87f9e",
   "metadata": {},
   "source": [
    "### By creating the groups of diffrent income found the following: \n",
    "\n",
    "#### Insights:\n",
    "- Income Distribution Analysis:\n",
    "  - The majority of the audience falls within the income range of 50k to 60k, comprising 76.7% of the total.\n",
    "  - Approximately 16.7% of the audience falls within the second income bracket.\n",
    "  - A smaller portion, accounting for 6.7% of the audience, reports an income above 90k."
   ]
  },
  {
   "cell_type": "code",
   "execution_count": 28,
   "id": "2c16af5f",
   "metadata": {},
   "outputs": [],
   "source": [
    "def Age_grp(x):\n",
    "    if x<=30:\n",
    "        return 'below 30'\n",
    "    elif x>=40:\n",
    "        return 'In 30s '\n",
    "    else:\n",
    "        return '40 Plus'"
   ]
  },
  {
   "cell_type": "markdown",
   "id": "51df30fc",
   "metadata": {},
   "source": [
    "## Age Group Bufiguration:"
   ]
  },
  {
   "cell_type": "code",
   "execution_count": 29,
   "id": "45c6cd64",
   "metadata": {},
   "outputs": [],
   "source": [
    "df['Age_group']=df['Age'].apply(Age_grp)"
   ]
  },
  {
   "cell_type": "code",
   "execution_count": 33,
   "id": "08071c9c",
   "metadata": {},
   "outputs": [
    {
     "data": {
      "image/png": "[encoded data removed]",
      "text/plain": [
       "<Figure size 432x288 with 1 Axes>"
      ]
     },
     "metadata": {},
     "output_type": "display_data"
    }
   ],
   "source": [
    "plt.pie(df.Age_group.value_counts(), explode=(.10,.10,.10), labels=df.Age_group.value_counts().index,autopct='%1.1f%%', colors=sns.color_palette('Set2')\n",
    ")\n",
    "plt.show()\n"
   ]
  },
  {
   "cell_type": "markdown",
   "id": "ff6accda",
   "metadata": {},
   "source": [
    "### By creating the groups of diffrent Ages found the following: \n",
    "\n",
    "#### Insights:\n",
    "- Age Distribution Analysis:\n",
    "  - The majority of the audience falls under 30 comprising 66.7% of the total.\n",
    "  - Approximately 23.9.7% of the audience falls within the second age bracket i.e. 30s\n",
    "  - A smaller portion, accounting for 9.4% of the audience, reports an income above 40."
   ]
  },
  {
   "cell_type": "code",
   "execution_count": 31,
   "id": "c7414bc8",
   "metadata": {},
   "outputs": [
    {
     "data": {
      "text/html": [
       "<div>\n",
       "<style scoped>\n",
       "    .dataframe tbody tr th:only-of-type {\n",
       "        vertical-align: middle;\n",
       "    }\n",
       "\n",
       "    .dataframe tbody tr th {\n",
       "        vertical-align: top;\n",
       "    }\n",
       "\n",
       "    .dataframe thead th {\n",
       "        text-align: right;\n",
       "    }\n",
       "</style>\n",
       "<table border=\"1\" class=\"dataframe\">\n",
       "  <thead>\n",
       "    <tr style=\"text-align: right;\">\n",
       "      <th>Age_group</th>\n",
       "      <th>40 Plus</th>\n",
       "      <th>In 30s</th>\n",
       "      <th>below 30</th>\n",
       "      <th>All</th>\n",
       "    </tr>\n",
       "    <tr>\n",
       "      <th>Product</th>\n",
       "      <th></th>\n",
       "      <th></th>\n",
       "      <th></th>\n",
       "      <th></th>\n",
       "    </tr>\n",
       "  </thead>\n",
       "  <tbody>\n",
       "    <tr>\n",
       "      <th>KP281</th>\n",
       "      <td>18</td>\n",
       "      <td>7</td>\n",
       "      <td>55</td>\n",
       "      <td>80</td>\n",
       "    </tr>\n",
       "    <tr>\n",
       "      <th>KP481</th>\n",
       "      <td>20</td>\n",
       "      <td>5</td>\n",
       "      <td>35</td>\n",
       "      <td>60</td>\n",
       "    </tr>\n",
       "    <tr>\n",
       "      <th>KP781</th>\n",
       "      <td>5</td>\n",
       "      <td>5</td>\n",
       "      <td>30</td>\n",
       "      <td>40</td>\n",
       "    </tr>\n",
       "    <tr>\n",
       "      <th>All</th>\n",
       "      <td>43</td>\n",
       "      <td>17</td>\n",
       "      <td>120</td>\n",
       "      <td>180</td>\n",
       "    </tr>\n",
       "  </tbody>\n",
       "</table>\n",
       "</div>"
      ],
      "text/plain": [
       "Age_group  40 Plus  In 30s   below 30  All\n",
       "Product                                   \n",
       "KP281           18        7        55   80\n",
       "KP481           20        5        35   60\n",
       "KP781            5        5        30   40\n",
       "All             43       17       120  180"
      ]
     },
     "execution_count": 31,
     "metadata": {},
     "output_type": "execute_result"
    }
   ],
   "source": [
    "pd.crosstab(index=df['Product'], columns=df['Age_group'], margins=True)"
   ]
  },
  {
   "cell_type": "code",
   "execution_count": null,
   "id": "30c8dd57",
   "metadata": {},
   "outputs": [],
   "source": []
  },
  {
   "cell_type": "markdown",
   "id": "7389b4f8",
   "metadata": {},
   "source": [
    "## Multivariate Analysis"
   ]
  },
  {
   "cell_type": "code",
   "execution_count": 32,
   "id": "ffd2a9c9",
   "metadata": {
    "scrolled": true
   },
   "outputs": [
    {
     "data": {
      "image/png": "[encoded data removed]",
      "text/plain": [
       "<Figure size 2160x720 with 4 Axes>"
      ]
     },
     "metadata": {
      "needs_background": "light"
     },
     "output_type": "display_data"
    }
   ],
   "source": [
    "plt.figure(figsize=(30,10))\n",
    "\n",
    "plt.subplot(2,2,1)\n",
    "sns.countplot(data=df, x='Product', hue='MaritalStatus', palette=(\"flare\"))\n",
    "plt.title('Effect of Marital Status:')\n",
    "\n",
    "plt.subplot(2,2,2)\n",
    "sns.countplot(data=df, x='Product', hue='Gender', palette=(\"flare\"))\n",
    "plt.title('Effect of Gender:')\n",
    "\n",
    "plt.subplot(2,2,3)\n",
    "sns.countplot(data=df, x='Product', hue='Income_group', palette=(\"flare\"))\n",
    "plt.title('Effect of Income Group:')\n",
    "\n",
    "plt.subplot(2,2,4)\n",
    "sns.countplot(data=df, x='Product', hue='Age_group', palette=(\"flare\"))\n",
    "plt.title('Effect of Age Group:')\n",
    "\n",
    "\n",
    "plt.show()"
   ]
  },
  {
   "cell_type": "markdown",
   "id": "07e20440",
   "metadata": {},
   "source": [
    "### Insights:\n",
    "The above graphical analysis shows following reults:\n",
    "- **Effect of Marital Status**:\n",
    "    - **Single Individuals**: Prefer **Product KP/21**.\n",
    "    - **Partnered Individuals**: Favor **Product KP/61**.\n",
    "    - **Married Individuals**: Show a strong preference for **Product KP/81**.\n",
    "- **Effect of Gender**:\n",
    "    - **Both Males and Females**: Exhibit a higher preference for **Product KP/61**.\n",
    "    - **Males**: Also show interest in **Product KP/21** (though less than females).\n",
    "    - **Product KP/81** is the least preferred by both genders.\n",
    "- **Effect of Income Group**:\n",
    "    - **Low-Income Group**: Significantly prefers **Product KP/21**.\n",
    "    - **Mid-Income Group**: Shows a balanced preference for all three products.\n",
    "    - **High-Income Group**: Overwhelmingly prefers **Product KP/81**.\n",
    "- **Effect by Age Group**:\n",
    "    - **Below 30**: Strongly prefer **Product KP/21**.\n",
    "    - **In 30s**: Show a balanced preference for all three products.\n",
    "    - **Above 40s**: Significantly prefer **Product KP/81**.\n"
   ]
  },
  {
   "cell_type": "code",
   "execution_count": null,
   "id": "8d812a33",
   "metadata": {},
   "outputs": [],
   "source": []
  },
  {
   "cell_type": "markdown",
   "id": "0311f46d",
   "metadata": {},
   "source": [
    "## Recommedations:\n",
    "- Income analysis reveals a strong preference for KP781 among high-income groups, while KP281 is favored by low-income groups, so it could be changed by thinking of prices and segments.\n",
    "- Age distribution indicates a strong preference for KP281 among younger individuals, while KP781 is preferred by older age groups, so by marketing the premium product in the younger groups may help in sales of KP781.\n",
    "- Both genders exhibit higher purchase probabilities for KP281, followed by KP481 and KP781.\n",
    "- Partnered individuals show a consistent preference for KP481, while singles favor KP281 and married individuals strongly prefer KP781.\n",
    "- Fitness ratings vary across products, with KP281 purchasers reporting higher fitness levels on average compared to KP481 and KP781 consumers. This could imply that KP281 attracts a more health-conscious consumer segment.\n"
   ]
  },
  {
   "cell_type": "code",
   "execution_count": null,
   "id": "7ca0ee08",
   "metadata": {},
   "outputs": [],
   "source": []
  },
  {
   "cell_type": "code",
   "execution_count": null,
   "id": "eff5873b",
   "metadata": {},
   "outputs": [],
   "source": []
  }
 ],
 "metadata": {
  "kernelspec": {
   "display_name": "Python 3",
   "language": "python",
   "name": "python3"
  },
  "language_info": {
   "codemirror_mode": {
    "name": "ipython",
    "version": 3
   },
   "file_extension": ".py",
   "mimetype": "text/x-python",
   "name": "python",
   "nbconvert_exporter": "python",
   "pygments_lexer": "ipython3",
   "version": "3.8.8"
  }
 },
 "nbformat": 4,
 "nbformat_minor": 5
}
